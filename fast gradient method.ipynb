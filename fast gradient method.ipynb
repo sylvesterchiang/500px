{
 "cells": [
  {
   "cell_type": "markdown",
   "metadata": {},
   "source": [
    "## Fast Gradient Sign Method\n",
    "\n",
    "This is the method outlined in the original paper. It takes the sign of the gradient and uses it as noise to perturb the original image. "
   ]
  },
  {
   "cell_type": "code",
   "execution_count": 2,
   "metadata": {},
   "outputs": [],
   "source": [
    "#importing libraries\n",
    "import tensorflow as tf\n",
    "import matplotlib.pyplot as plt\n",
    "import numpy as np\n",
    "\n",
    "import inception\n",
    "\n",
    "import keras\n",
    "from keras.datasets import mnist\n",
    "from keras.models import Sequential\n",
    "from keras.layers import Dense, Dropout, Flatten\n",
    "from keras.layers import Conv2D, MaxPooling2D\n",
    "from keras import backend as K\n",
    "\n",
    "%matplotlib inline"
   ]
  },
  {
   "cell_type": "markdown",
   "metadata": {},
   "source": [
    "## Trying with just a regular CNN\n",
    "\n",
    "Here I built the basic CNN model using Keras. It's just a wrapper library that builds on top of either Tensorflow or Theano so all the code can still interact with basic tf code. "
   ]
  },
  {
   "cell_type": "code",
   "execution_count": 3,
   "metadata": {
    "collapsed": true
   },
   "outputs": [],
   "source": [
    "from keras.backend import manual_variable_initialization \n",
    "manual_variable_initialization(True)\n",
    "\n",
    "model = Sequential()\n",
    "model.add(Conv2D(32, kernel_size=(3, 3),\n",
    "                 activation='relu',\n",
    "                 input_shape=(28, 28, 1)))\n",
    "model.add(Conv2D(64, (3, 3), activation='relu'))\n",
    "model.add(MaxPooling2D(pool_size=(2, 2)))\n",
    "model.add(Dropout(0.25))\n",
    "model.add(Flatten())\n",
    "model.add(Dense(128, activation='relu'))\n",
    "model.add(Dropout(0.5))\n",
    "model.add(Dense(10, activation='softmax'))"
   ]
  },
  {
   "cell_type": "code",
   "execution_count": 4,
   "metadata": {},
   "outputs": [
    {
     "name": "stdout",
     "output_type": "stream",
     "text": [
      "x_train shape: (60000, 28, 28, 1)\n",
      "60000 train samples\n",
      "10000 test samples\n"
     ]
    }
   ],
   "source": [
    "batch_size = 128\n",
    "num_classes = 10\n",
    "epochs = 25\n",
    "\n",
    "# input image dimensions\n",
    "img_rows, img_cols = 28, 28\n",
    "\n",
    "# the data, shuffled and split between train and test sets\n",
    "(x_train, y_train), (x_test, y_test) = mnist.load_data()\n",
    "\n",
    "if K.image_data_format() == 'channels_first':\n",
    "    x_train = x_train.reshape(x_train.shape[0], 1, img_rows, img_cols)\n",
    "    x_test = x_test.reshape(x_test.shape[0], 1, img_rows, img_cols)\n",
    "    input_shape = (1, img_rows, img_cols)\n",
    "else:\n",
    "    x_train = x_train.reshape(x_train.shape[0], img_rows, img_cols, 1)\n",
    "    x_test = x_test.reshape(x_test.shape[0], img_rows, img_cols, 1)\n",
    "    input_shape = (img_rows, img_cols, 1)\n",
    "\n",
    "x_train = x_train.astype('float32')\n",
    "x_test = x_test.astype('float32')\n",
    "x_train /= 255\n",
    "x_test /= 255\n",
    "print('x_train shape:', x_train.shape)\n",
    "print(x_train.shape[0], 'train samples')\n",
    "print(x_test.shape[0], 'test samples')\n",
    "\n",
    "# convert class vectors to binary class matrices\n",
    "y_train = keras.utils.to_categorical(y_train, num_classes)\n",
    "y_test = keras.utils.to_categorical(y_test, num_classes)"
   ]
  },
  {
   "cell_type": "code",
   "execution_count": 5,
   "metadata": {
    "collapsed": true
   },
   "outputs": [],
   "source": [
    "manual_variable_initialization(True)"
   ]
  },
  {
   "cell_type": "code",
   "execution_count": 6,
   "metadata": {},
   "outputs": [
    {
     "name": "stdout",
     "output_type": "stream",
     "text": [
      "The original accuracy of the MNIST dataset: 0.960099995136261\n"
     ]
    }
   ],
   "source": [
    "from keras.metrics import categorical_accuracy as accuracy\n",
    "labels = tf.placeholder(tf.float32, shape=(None, 10))\n",
    "\n",
    "with tf.Session() as sess:\n",
    "        \n",
    "    model.load_weights('cnn_weights3.h5')\n",
    "    \n",
    "    xs = tf.placeholder(tf.float32, shape=(None, 28, 28, 1))\n",
    "    ys = model(xs)\n",
    "\n",
    "    acc_value = accuracy(labels, ys)\n",
    "\n",
    "    res = (acc_value.eval(feed_dict={xs: x_test,\n",
    "                                    labels: y_test,\n",
    "                                    K.learning_phase(): 0}))\n",
    "    print(\"The original accuracy of the MNIST dataset: {}\".format(np.mean(res)))"
   ]
  },
  {
   "cell_type": "markdown",
   "metadata": {
    "collapsed": true
   },
   "source": [
    "## Building the adversarial noise generator"
   ]
  },
  {
   "cell_type": "code",
   "execution_count": 7,
   "metadata": {
    "collapsed": true
   },
   "outputs": [],
   "source": [
    "#initialized uninitialized variables\n",
    "def initialize_uninitialized(sess):\n",
    "    global_vars          = tf.global_variables()\n",
    "    is_not_initialized   = sess.run([tf.is_variable_initialized(var) for var in global_vars])\n",
    "    not_initialized_vars = [v for (v, f) in zip(global_vars, is_not_initialized) if not f]\n",
    "\n",
    "    #print[str(i.name) for i in not_initialized_vars] # only for testing\n",
    "    if len(not_initialized_vars):\n",
    "        sess.run(tf.variables_initializer(not_initialized_vars))"
   ]
  },
  {
   "cell_type": "code",
   "execution_count": 8,
   "metadata": {},
   "outputs": [
    {
     "name": "stdout",
     "output_type": "stream",
     "text": [
      "the prediction for this image is:\n",
      "[7]\n"
     ]
    },
    {
     "data": {
      "image/png": "[encoded data removed]",
      "text/plain": [
       "<matplotlib.figure.Figure at 0x12f8cf208>"
      ]
     },
     "metadata": {},
     "output_type": "display_data"
    }
   ],
   "source": [
    "#plotting an example of an image and the prediction class\n",
    "plt.imshow(x_test[0].squeeze())\n",
    "\n",
    "with tf.Session() as sess:\n",
    "    \n",
    "    model.load_weights('cnn_weights3.h5')\n",
    "    \n",
    "    xs = tf.placeholder(tf.float32, shape=(None, 28, 28, 1))\n",
    "    ys = model(xs)\n",
    "    \n",
    "    pred = sess.run(ys, feed_dict={\n",
    "        xs: [x_test[0]],\n",
    "        K.learning_phase(): 0\n",
    "    })\n",
    "    \n",
    "    print(\"the prediction for this image is:\")\n",
    "    print(np.argmax(pred, axis=1))"
   ]
  },
  {
   "cell_type": "code",
   "execution_count": 9,
   "metadata": {
    "collapsed": true
   },
   "outputs": [],
   "source": [
    "#The fast gradient sign method\n",
    "#Takes an image, a class, and an \"amplitude\"\n",
    "def fgsm(image, cls, amp):\n",
    "        \n",
    "    xs = tf.placeholder(tf.float32, shape=(None, 28, 28, 1))\n",
    "    ys = model(xs)\n",
    "        \n",
    "    with tf.Session() as sess:\n",
    "        #load models\n",
    "        model.load_weights('cnn_weights3.h5')\n",
    "        initialize_uninitialized(sess)\n",
    "        \n",
    "        pred = sess.run(ys, feed_dict={\n",
    "            xs: image,\n",
    "            K.learning_phase(): 0\n",
    "        })\n",
    "                \n",
    "        labels = tf.placeholder(tf.float32, shape=(None, 10))\n",
    "        loss = tf.nn.softmax_cross_entropy_with_logits(logits=ys, labels=labels)\n",
    "        gradient = tf.gradients(loss, xs)[0]\n",
    "        \n",
    "        #get gradient of the prediction\n",
    "        grad = sess.run(gradient, feed_dict={\n",
    "            xs: image, \n",
    "            labels: cls, \n",
    "            K.learning_phase(): 0\n",
    "        })\n",
    "        \n",
    "        #Return the sign of the prediction multiplied by the amplitude\n",
    "        signed_grad = tf.sign(grad) * amp\n",
    "        \n",
    "        #pass back reduced dimensions\n",
    "        return (grad.squeeze(), signed_grad.eval().squeeze())"
   ]
  },
  {
   "cell_type": "code",
   "execution_count": 17,
   "metadata": {},
   "outputs": [
    {
     "name": "stdout",
     "output_type": "stream",
     "text": [
      "7\n"
     ]
    }
   ],
   "source": [
    "#creating target array\n",
    "tar = 7\n",
    "cls = np.zeros(10)\n",
    "cls[tar] = 1\n",
    "\n",
    "#calling the method return a gradient and signed map\n",
    "grad, signed = fgsm([x_test[0]], [cls], 0.5)"
   ]
  },
  {
   "cell_type": "code",
   "execution_count": 18,
   "metadata": {},
   "outputs": [
    {
     "data": {
      "text/plain": [
       "<matplotlib.text.Text at 0x12fcafac8>"
      ]
     },
     "execution_count": 18,
     "metadata": {},
     "output_type": "execute_result"
    },
    {
     "data": {
      "image/png": "[encoded data removed]",
      "text/plain": [
       "<matplotlib.figure.Figure at 0x12fb73da0>"
      ]
     },
     "metadata": {},
     "output_type": "display_data"
    }
   ],
   "source": [
    "plt.subplot(121)\n",
    "plt.imshow(grad)\n",
    "plt.title('gradient map')\n",
    "\n",
    "plt.subplot(122)\n",
    "plt.imshow(signed)\n",
    "plt.title('signed gradient map')"
   ]
  },
  {
   "cell_type": "code",
   "execution_count": 16,
   "metadata": {},
   "outputs": [
    {
     "name": "stdout",
     "output_type": "stream",
     "text": [
      "the prediction for this image is:\n",
      "[3]\n"
     ]
    },
    {
     "data": {
      "image/png": "[encoded data removed]",
      "text/plain": [
       "<matplotlib.figure.Figure at 0x133b08908>"
      ]
     },
     "metadata": {},
     "output_type": "display_data"
    }
   ],
   "source": [
    "#Here I tried plotting the image with the added noise. It misclassifies! Which is cool\n",
    "#but it also doesn't look very much like a 7 anymore. \n",
    "\n",
    "noisy_image = x_test[0] + signed.reshape((28, 28, 1))\n",
    "plt.imshow(noisy_image.squeeze(), cmap='gray')\n",
    "\n",
    "with tf.Session() as sess:\n",
    "    \n",
    "    model.load_weights('cnn_weights3.h5')\n",
    "    \n",
    "    xs = tf.placeholder(tf.float32, shape=(None, 28, 28, 1))\n",
    "    ys = model(xs)\n",
    "    \n",
    "    pred = sess.run(ys, feed_dict={\n",
    "        xs: [noisy_image],\n",
    "        K.learning_phase(): 0\n",
    "    })\n",
    "    \n",
    "    print(\"the prediction for this image is:\")\n",
    "    print(np.argmax(pred, axis=1))"
   ]
  },
  {
   "cell_type": "code",
   "execution_count": null,
   "metadata": {
    "collapsed": true
   },
   "outputs": [],
   "source": []
  }
 ],
 "metadata": {
  "kernelspec": {
   "display_name": "Python 3",
   "language": "python",
   "name": "python3"
  }
 },
 "nbformat": 4,
 "nbformat_minor": 2
}
