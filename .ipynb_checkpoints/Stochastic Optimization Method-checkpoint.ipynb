{
 "cells": [
  {
   "cell_type": "markdown",
   "metadata": {},
   "source": [
    "## Finding adversarial examples using stochastic optimization\n",
    "\n",
    "While the initial method of adversarial example generation presented by Goodfellow capitalized on the gradient signs, it is also possible to generate adversarial examples by optimizing a noise pattern to disrupt the softmax classification. In this paradigm you train a deep learning network to learn what noise patterns lead to misclassifications, and can be used for targeted attacks. \n",
    "\n",
    "The concepts used in this notebook were from: https://github.com/Hvass-Labs/TensorFlow-Tutorials"
   ]
  },
  {
   "cell_type": "code",
   "execution_count": 1,
   "metadata": {},
   "outputs": [
    {
     "name": "stderr",
     "output_type": "stream",
     "text": [
      "Using TensorFlow backend.\n"
     ]
    }
   ],
   "source": [
    "#Importing necessary libraries\n",
    "\n",
    "import tensorflow as tf\n",
    "import matplotlib.pyplot as plt\n",
    "import numpy as np\n",
    "\n",
    "import inception\n",
    "\n",
    "import keras\n",
    "from keras.datasets import mnist\n",
    "from keras.models import Sequential\n",
    "from keras.layers import Dense, Dropout, Flatten\n",
    "from keras.layers import Conv2D, MaxPooling2D\n",
    "from keras import backend as K\n",
    "\n",
    "%matplotlib inline"
   ]
  },
  {
   "cell_type": "markdown",
   "metadata": {},
   "source": [
    "## Importing CNN model"
   ]
  },
  {
   "cell_type": "code",
   "execution_count": 2,
   "metadata": {
    "collapsed": true
   },
   "outputs": [],
   "source": [
    "# I have a pretrained CNN model, so I built the architecture in Keras. Keras compiles down to Tensorflow\n",
    "# so it's possible to use TF as a backend, like I will do below\n",
    "\n",
    "from keras.backend import manual_variable_initialization \n",
    "manual_variable_initialization(True)\n",
    "\n",
    "# A sequential model with dropout layers\n",
    "model = Sequential() \n",
    "model.add(Conv2D(32, kernel_size=(3, 3),\n",
    "                 activation='relu',\n",
    "                 input_shape=(28, 28, 1)))\n",
    "model.add(Conv2D(64, (3, 3), activation='relu'))\n",
    "model.add(MaxPooling2D(pool_size=(2, 2)))\n",
    "model.add(Dropout(0.25))\n",
    "model.add(Flatten())\n",
    "model.add(Dense(128, activation='relu'))\n",
    "model.add(Dropout(0.5))\n",
    "model.add(Dense(10, activation='softmax'))"
   ]
  },
  {
   "cell_type": "code",
   "execution_count": 3,
   "metadata": {},
   "outputs": [
    {
     "name": "stdout",
     "output_type": "stream",
     "text": [
      "x_train shape: (60000, 28, 28, 1)\n",
      "60000 train samples\n",
      "10000 test samples\n"
     ]
    }
   ],
   "source": [
    "#Installing MNIST data\n",
    "\n",
    "# input image dimensions\n",
    "img_rows, img_cols = 28, 28\n",
    "\n",
    "# the data, shuffled and split between train and test sets\n",
    "(x_train, y_train), (x_test, y_test) = mnist.load_data()\n",
    "\n",
    "if K.image_data_format() == 'channels_first':\n",
    "    x_train = x_train.reshape(x_train.shape[0], 1, img_rows, img_cols)\n",
    "    x_test = x_test.reshape(x_test.shape[0], 1, img_rows, img_cols)\n",
    "    input_shape = (1, img_rows, img_cols)\n",
    "else:\n",
    "    x_train = x_train.reshape(x_train.shape[0], img_rows, img_cols, 1)\n",
    "    x_test = x_test.reshape(x_test.shape[0], img_rows, img_cols, 1)\n",
    "    input_shape = (img_rows, img_cols, 1)\n",
    "\n",
    "x_train = x_train.astype('float32')\n",
    "x_test = x_test.astype('float32')\n",
    "x_train /= 255\n",
    "x_test /= 255\n",
    "print('x_train shape:', x_train.shape)\n",
    "print(x_train.shape[0], 'train samples')\n",
    "print(x_test.shape[0], 'test samples')\n",
    "\n",
    "# convert class vectors to binary class matrices\n",
    "y_train = keras.utils.to_categorical(y_train, 10)\n",
    "y_test = keras.utils.to_categorical(y_test, 10)"
   ]
  },
  {
   "cell_type": "code",
   "execution_count": 4,
   "metadata": {},
   "outputs": [
    {
     "name": "stdout",
     "output_type": "stream",
     "text": [
      "The original accuracy of the MNIST dataset: 0.960099995136261\n"
     ]
    }
   ],
   "source": [
    "# Just checking to see that the model that I loaded up actually works. 96% is pretty bad but my computer is slow\n",
    "# so I just ran a CNN for one epoch to get this accuracy. Definitely something to be fixed in future iterations.\n",
    "\n",
    "from keras.metrics import categorical_accuracy as accuracy\n",
    "labels = tf.placeholder(tf.float32, shape=(None, 10))\n",
    "\n",
    "with tf.Session() as sess:\n",
    "    \n",
    "    #sess.run(tf.global_variables_initializer())\n",
    "    \n",
    "    model.load_weights('cnn_weights3.h5')\n",
    "    \n",
    "    xs = tf.placeholder(tf.float32, shape=(None, 28, 28, 1))\n",
    "    ys = model(xs)\n",
    "\n",
    "    acc_value = accuracy(labels, ys)\n",
    "\n",
    "    res = (acc_value.eval(feed_dict={xs: x_test,\n",
    "                                    labels: y_test,\n",
    "                                    K.learning_phase(): 0}))\n",
    "    print(\"The original accuracy of the MNIST dataset: {}\".format(np.mean(res)))"
   ]
  },
  {
   "cell_type": "markdown",
   "metadata": {},
   "source": [
    "## 500px challenge\n",
    "\n",
    "So this challenge is to generate adversarial examples that fool a classifier to misclassify a 2 into a 6."
   ]
  },
  {
   "cell_type": "code",
   "execution_count": 5,
   "metadata": {
    "collapsed": true
   },
   "outputs": [],
   "source": [
    "#This function is used to initialize only uninitilized variables. This is useful because otherwise\n",
    "#TF would write over my loaded CNN model causing it to classify with completely random accuracy. \n",
    "def initialize_uninitialized(sess):\n",
    "    global_vars          = tf.global_variables()\n",
    "    is_not_initialized   = sess.run([tf.is_variable_initialized(var) for var in global_vars])\n",
    "    not_initialized_vars = [v for (v, f) in zip(global_vars, is_not_initialized) if not f]\n",
    "\n",
    "    #print[str(i.name) for i in not_initialized_vars] # only for testing\n",
    "    if len(not_initialized_vars):\n",
    "        sess.run(tf.variables_initializer(not_initialized_vars))"
   ]
  },
  {
   "cell_type": "code",
   "execution_count": 161,
   "metadata": {},
   "outputs": [],
   "source": [
    "#Some basic paramters of the training model\n",
    "img_size = 28\n",
    "num_channels = 1\n",
    "batch_size = 64\n",
    "epochs = 5\n",
    "num_batches = int(x_train.shape[0] / batch_size)\n",
    "\n",
    "#Creating a variable collection called adversary_variables\n",
    "#Only these will be optimized in the training process\n",
    "ADVERSARY_VARIABLES = 'adversary_variables'\n",
    "collections = [tf.GraphKeys.GLOBAL_VARIABLES, ADVERSARY_VARIABLES]\n",
    "\n",
    "#A place holder for the image data\n",
    "x_image = tf.placeholder(tf.float32, (None, img_size, img_size, num_channels))\n",
    "\n",
    "#What the network will modify to misclassify examples\n",
    "x_noise = tf.Variable(tf.zeros([img_size, img_size, num_channels]),\n",
    "                  name='x_noise', collections=collections)"
   ]
  },
  {
   "cell_type": "code",
   "execution_count": 176,
   "metadata": {},
   "outputs": [],
   "source": [
    "def gen_adv(noise_limit, target_cls=6, noise_l2_weight=0.2):\n",
    "    \n",
    "    #Clipping the noise so that it doesn't perturb the image too much\n",
    "    x_noise_clip = tf.assign(x_noise, tf.clip_by_value(x_noise,\n",
    "                                                   -noise_limit,\n",
    "                                                   noise_limit))\n",
    "    \n",
    "    #adding the noise to the imaeg data\n",
    "    x_noisy_image = x_image + x_noise    \n",
    "    #Clipping it again so that none of the values fall outisde the range of the original MNIST data\n",
    "    x_noisy_image = tf.clip_by_value(x_noisy_image, 0.0, 1.0)\n",
    "    \n",
    "    #Getting a list of variables to be tuned\n",
    "    adversary_variables = tf.get_collection('adversary_variables')\n",
    "    #print([var.name for var in adversary_variables])\n",
    "    \n",
    "    \"\"\"\n",
    "    Creating model output and input\n",
    "    \"\"\"\n",
    "    #ys is the output of the model (a logits output)\n",
    "    ys = model(x_noisy_image)\n",
    "    #labels are the \"true\" output. In this example, we will be putting in misclassification\n",
    "    #as the \"true\" output to make the network learn how output that prediction.\n",
    "    labels = tf.placeholder(tf.float32, shape=(None, 10))\n",
    "    \n",
    "    \"\"\"\n",
    "    Our loss function has two parts:\n",
    "    loss is the regular corss entropy loss of the prediction with the ground truth.\n",
    "    l2_loss_noise is a regularization tool to ensure that the noise values are so large\n",
    "    that the noisy image no longer resembles the initial image. \n",
    "    \"\"\"\n",
    "    loss = tf.reduce_mean(tf.nn.softmax_cross_entropy_with_logits(logits=ys, labels=labels))\n",
    "    l2_loss_noise = noise_l2_weight * tf.nn.l2_loss(x_noise)\n",
    "    \n",
    "    loss_adversary = loss + l2_loss_noise\n",
    "    #optimize only for the adversary variables. \n",
    "    optimizer_adversary = tf.train.AdamOptimizer(learning_rate=0.1).\\\n",
    "        minimize(loss_adversary, var_list=adversary_variables)\n",
    "        \n",
    "    #generate a matrix of target classes to use as labels for optimization\n",
    "    target_labels = np.zeros(10)\n",
    "    target_labels[target_cls] = 1\n",
    "    target_labels = np.repeat([target_labels], batch_size, axis=0)\n",
    "\n",
    "    with tf.Session() as sess:\n",
    "        \n",
    "        #Load CNN weights, initialize TF variables\n",
    "        model.load_weights('cnn_weights3.h5')\n",
    "        sess.run(tf.variables_initializer([x_noise]))\n",
    "        initialize_uninitialized(sess)\n",
    "    \n",
    "        for e in range(5):\n",
    "            \n",
    "            for i in range(num_batches):\n",
    "                \n",
    "                _, loss = sess.run([optimizer_adversary, loss_adversary], feed_dict={\n",
    "                    x_image:x_train[i*batch_size: (i+1)*batch_size],\n",
    "                    labels:target_labels,\n",
    "                    K.learning_phase():0\n",
    "                })\n",
    "                \n",
    "                sess.run(x_noise_clip)\n",
    "                \n",
    "            print('finished optimizing epoch {}'.format(e))\n",
    "            pred = sess.run(ys, feed_dict={\n",
    "                x_image:x_test,\n",
    "                K.learning_phase():0\n",
    "            })\n",
    "            print('percentage of correctly classified images:')\n",
    "            print(np.sum(np.argmax(pred, axis=1) == np.argmax(y_test, axis=1) / (x_test.shape[0] + 0.0))\n",
    "            print('percentage of images classified as target class:')\n",
    "            print(np.sum(np.argmax(pred, axis=1) == target_cls) / (x_test.shape[0] + 0.0))\n",
    "            print('===================')\n",
    "            \n",
    "        return x_noise.eval()"
   ]
  },
  {
   "cell_type": "code",
   "execution_count": 177,
   "metadata": {
    "scrolled": true
   },
   "outputs": [
    {
     "name": "stdout",
     "output_type": "stream",
     "text": [
      "finished optimizing epoch 0\n",
      "percentage of correctly classified images:\n",
      "0.0\n",
      "percentage of images classified as target class:\n",
      "0.0924\n",
      "===================\n"
     ]
    },
    {
     "name": "stderr",
     "output_type": "stream",
     "text": [
      "/Users/sylvester/anaconda/lib/python3.6/site-packages/ipykernel_launcher.py:69: DeprecationWarning: elementwise == comparison failed; this will raise an error in the future.\n"
     ]
    },
    {
     "name": "stdout",
     "output_type": "stream",
     "text": [
      "finished optimizing epoch 1\n",
      "percentage of correctly classified images:\n",
      "0.0\n",
      "percentage of images classified as target class:\n",
      "0.0924\n",
      "===================\n",
      "finished optimizing epoch 2\n"
     ]
    },
    {
     "ename": "KeyboardInterrupt",
     "evalue": "",
     "output_type": "error",
     "traceback": [
      "\u001b[0;31m---------------------------------------------------------------------------\u001b[0m",
      "\u001b[0;31mKeyboardInterrupt\u001b[0m                         Traceback (most recent call last)",
      "\u001b[0;32m<ipython-input-177-5c3bf5061b10>\u001b[0m in \u001b[0;36m<module>\u001b[0;34m()\u001b[0m\n\u001b[0;32m----> 1\u001b[0;31m \u001b[0mnoise\u001b[0m \u001b[0;34m=\u001b[0m \u001b[0mgen_adv\u001b[0m\u001b[0;34m(\u001b[0m\u001b[0mnoise_limit\u001b[0m\u001b[0;34m=\u001b[0m\u001b[0;36m0.35\u001b[0m\u001b[0;34m,\u001b[0m \u001b[0mtarget_cls\u001b[0m\u001b[0;34m=\u001b[0m\u001b[0;36m6\u001b[0m\u001b[0;34m,\u001b[0m \u001b[0mnoise_l2_weight\u001b[0m\u001b[0;34m=\u001b[0m\u001b[0;36m0.015\u001b[0m\u001b[0;34m)\u001b[0m\u001b[0;34m\u001b[0m\u001b[0m\n\u001b[0m",
      "\u001b[0;32m<ipython-input-176-1e2d8e31adca>\u001b[0m in \u001b[0;36mgen_adv\u001b[0;34m(noise_limit, target_cls, noise_l2_weight)\u001b[0m\n\u001b[1;32m     64\u001b[0m             pred = sess.run(ys, feed_dict={\n\u001b[1;32m     65\u001b[0m                 \u001b[0mx_image\u001b[0m\u001b[0;34m:\u001b[0m\u001b[0mx_test\u001b[0m\u001b[0;34m,\u001b[0m\u001b[0;34m\u001b[0m\u001b[0m\n\u001b[0;32m---> 66\u001b[0;31m                 \u001b[0mK\u001b[0m\u001b[0;34m.\u001b[0m\u001b[0mlearning_phase\u001b[0m\u001b[0;34m(\u001b[0m\u001b[0;34m)\u001b[0m\u001b[0;34m:\u001b[0m\u001b[0;36m0\u001b[0m\u001b[0;34m\u001b[0m\u001b[0m\n\u001b[0m\u001b[1;32m     67\u001b[0m             })\n\u001b[1;32m     68\u001b[0m             \u001b[0mprint\u001b[0m\u001b[0;34m(\u001b[0m\u001b[0;34m'percentage of correctly classified images:'\u001b[0m\u001b[0;34m)\u001b[0m\u001b[0;34m\u001b[0m\u001b[0m\n",
      "\u001b[0;32m/Users/sylvester/anaconda/lib/python3.6/site-packages/tensorflow/python/client/session.py\u001b[0m in \u001b[0;36mrun\u001b[0;34m(self, fetches, feed_dict, options, run_metadata)\u001b[0m\n\u001b[1;32m    787\u001b[0m     \u001b[0;32mtry\u001b[0m\u001b[0;34m:\u001b[0m\u001b[0;34m\u001b[0m\u001b[0m\n\u001b[1;32m    788\u001b[0m       result = self._run(None, fetches, feed_dict, options_ptr,\n\u001b[0;32m--> 789\u001b[0;31m                          run_metadata_ptr)\n\u001b[0m\u001b[1;32m    790\u001b[0m       \u001b[0;32mif\u001b[0m \u001b[0mrun_metadata\u001b[0m\u001b[0;34m:\u001b[0m\u001b[0;34m\u001b[0m\u001b[0m\n\u001b[1;32m    791\u001b[0m         \u001b[0mproto_data\u001b[0m \u001b[0;34m=\u001b[0m \u001b[0mtf_session\u001b[0m\u001b[0;34m.\u001b[0m\u001b[0mTF_GetBuffer\u001b[0m\u001b[0;34m(\u001b[0m\u001b[0mrun_metadata_ptr\u001b[0m\u001b[0;34m)\u001b[0m\u001b[0;34m\u001b[0m\u001b[0m\n",
      "\u001b[0;32m/Users/sylvester/anaconda/lib/python3.6/site-packages/tensorflow/python/client/session.py\u001b[0m in \u001b[0;36m_run\u001b[0;34m(self, handle, fetches, feed_dict, options, run_metadata)\u001b[0m\n\u001b[1;32m    995\u001b[0m     \u001b[0;32mif\u001b[0m \u001b[0mfinal_fetches\u001b[0m \u001b[0;32mor\u001b[0m \u001b[0mfinal_targets\u001b[0m\u001b[0;34m:\u001b[0m\u001b[0;34m\u001b[0m\u001b[0m\n\u001b[1;32m    996\u001b[0m       results = self._do_run(handle, final_targets, final_fetches,\n\u001b[0;32m--> 997\u001b[0;31m                              feed_dict_string, options, run_metadata)\n\u001b[0m\u001b[1;32m    998\u001b[0m     \u001b[0;32melse\u001b[0m\u001b[0;34m:\u001b[0m\u001b[0;34m\u001b[0m\u001b[0m\n\u001b[1;32m    999\u001b[0m       \u001b[0mresults\u001b[0m \u001b[0;34m=\u001b[0m \u001b[0;34m[\u001b[0m\u001b[0;34m]\u001b[0m\u001b[0;34m\u001b[0m\u001b[0m\n",
      "\u001b[0;32m/Users/sylvester/anaconda/lib/python3.6/site-packages/tensorflow/python/client/session.py\u001b[0m in \u001b[0;36m_do_run\u001b[0;34m(self, handle, target_list, fetch_list, feed_dict, options, run_metadata)\u001b[0m\n\u001b[1;32m   1130\u001b[0m     \u001b[0;32mif\u001b[0m \u001b[0mhandle\u001b[0m \u001b[0;32mis\u001b[0m \u001b[0;32mNone\u001b[0m\u001b[0;34m:\u001b[0m\u001b[0;34m\u001b[0m\u001b[0m\n\u001b[1;32m   1131\u001b[0m       return self._do_call(_run_fn, self._session, feed_dict, fetch_list,\n\u001b[0;32m-> 1132\u001b[0;31m                            target_list, options, run_metadata)\n\u001b[0m\u001b[1;32m   1133\u001b[0m     \u001b[0;32melse\u001b[0m\u001b[0;34m:\u001b[0m\u001b[0;34m\u001b[0m\u001b[0m\n\u001b[1;32m   1134\u001b[0m       return self._do_call(_prun_fn, self._session, handle, feed_dict,\n",
      "\u001b[0;32m/Users/sylvester/anaconda/lib/python3.6/site-packages/tensorflow/python/client/session.py\u001b[0m in \u001b[0;36m_do_call\u001b[0;34m(self, fn, *args)\u001b[0m\n\u001b[1;32m   1137\u001b[0m   \u001b[0;32mdef\u001b[0m \u001b[0m_do_call\u001b[0m\u001b[0;34m(\u001b[0m\u001b[0mself\u001b[0m\u001b[0;34m,\u001b[0m \u001b[0mfn\u001b[0m\u001b[0;34m,\u001b[0m \u001b[0;34m*\u001b[0m\u001b[0margs\u001b[0m\u001b[0;34m)\u001b[0m\u001b[0;34m:\u001b[0m\u001b[0;34m\u001b[0m\u001b[0m\n\u001b[1;32m   1138\u001b[0m     \u001b[0;32mtry\u001b[0m\u001b[0;34m:\u001b[0m\u001b[0;34m\u001b[0m\u001b[0m\n\u001b[0;32m-> 1139\u001b[0;31m       \u001b[0;32mreturn\u001b[0m \u001b[0mfn\u001b[0m\u001b[0;34m(\u001b[0m\u001b[0;34m*\u001b[0m\u001b[0margs\u001b[0m\u001b[0;34m)\u001b[0m\u001b[0;34m\u001b[0m\u001b[0m\n\u001b[0m\u001b[1;32m   1140\u001b[0m     \u001b[0;32mexcept\u001b[0m \u001b[0merrors\u001b[0m\u001b[0;34m.\u001b[0m\u001b[0mOpError\u001b[0m \u001b[0;32mas\u001b[0m \u001b[0me\u001b[0m\u001b[0;34m:\u001b[0m\u001b[0;34m\u001b[0m\u001b[0m\n\u001b[1;32m   1141\u001b[0m       \u001b[0mmessage\u001b[0m \u001b[0;34m=\u001b[0m \u001b[0mcompat\u001b[0m\u001b[0;34m.\u001b[0m\u001b[0mas_text\u001b[0m\u001b[0;34m(\u001b[0m\u001b[0me\u001b[0m\u001b[0;34m.\u001b[0m\u001b[0mmessage\u001b[0m\u001b[0;34m)\u001b[0m\u001b[0;34m\u001b[0m\u001b[0m\n",
      "\u001b[0;32m/Users/sylvester/anaconda/lib/python3.6/site-packages/tensorflow/python/client/session.py\u001b[0m in \u001b[0;36m_run_fn\u001b[0;34m(session, feed_dict, fetch_list, target_list, options, run_metadata)\u001b[0m\n\u001b[1;32m   1119\u001b[0m         return tf_session.TF_Run(session, options,\n\u001b[1;32m   1120\u001b[0m                                  \u001b[0mfeed_dict\u001b[0m\u001b[0;34m,\u001b[0m \u001b[0mfetch_list\u001b[0m\u001b[0;34m,\u001b[0m \u001b[0mtarget_list\u001b[0m\u001b[0;34m,\u001b[0m\u001b[0;34m\u001b[0m\u001b[0m\n\u001b[0;32m-> 1121\u001b[0;31m                                  status, run_metadata)\n\u001b[0m\u001b[1;32m   1122\u001b[0m \u001b[0;34m\u001b[0m\u001b[0m\n\u001b[1;32m   1123\u001b[0m     \u001b[0;32mdef\u001b[0m \u001b[0m_prun_fn\u001b[0m\u001b[0;34m(\u001b[0m\u001b[0msession\u001b[0m\u001b[0;34m,\u001b[0m \u001b[0mhandle\u001b[0m\u001b[0;34m,\u001b[0m \u001b[0mfeed_dict\u001b[0m\u001b[0;34m,\u001b[0m \u001b[0mfetch_list\u001b[0m\u001b[0;34m)\u001b[0m\u001b[0;34m:\u001b[0m\u001b[0;34m\u001b[0m\u001b[0m\n",
      "\u001b[0;31mKeyboardInterrupt\u001b[0m: "
     ]
    }
   ],
   "source": [
    "noise = gen_adv(noise_limit=0.35, target_cls=6, noise_l2_weight=0.01)"
   ]
  },
  {
   "cell_type": "code",
   "execution_count": 175,
   "metadata": {
    "scrolled": true
   },
   "outputs": [
    {
     "data": {
      "text/plain": [
       "0.11684664"
      ]
     },
     "execution_count": 175,
     "metadata": {},
     "output_type": "execute_result"
    }
   ],
   "source": [
    "np.max(noise)"
   ]
  },
  {
   "cell_type": "markdown",
   "metadata": {},
   "source": [
    "## Testing the adversarial noise"
   ]
  },
  {
   "cell_type": "code",
   "execution_count": 165,
   "metadata": {
    "collapsed": true
   },
   "outputs": [],
   "source": [
    "#adding the noise to the test images\n",
    "noisy_test = []\n",
    "\n",
    "for i in x_test[:100]:\n",
    "    noisy_test.append(i + noise.reshape((28, 28, 1)) * 100)"
   ]
  },
  {
   "cell_type": "code",
   "execution_count": 169,
   "metadata": {},
   "outputs": [
    {
     "data": {
      "text/plain": [
       "0.95328003"
      ]
     },
     "execution_count": 169,
     "metadata": {},
     "output_type": "execute_result"
    }
   ],
   "source": [
    "np.max(noise)"
   ]
  },
  {
   "cell_type": "code",
   "execution_count": 168,
   "metadata": {},
   "outputs": [
    {
     "data": {
      "text/plain": [
       "<matplotlib.text.Text at 0x13c914da0>"
      ]
     },
     "execution_count": 168,
     "metadata": {},
     "output_type": "execute_result"
    },
    {
     "data": {
      "image/png": "[encoded data removed]",
      "text/plain": [
       "<matplotlib.figure.Figure at 0x13df91860>"
      ]
     },
     "metadata": {},
     "output_type": "display_data"
    }
   ],
   "source": [
    "plt.subplot(121)\n",
    "plt.imshow(x_test[0].squeeze())\n",
    "plt.title('original image')\n",
    "\n",
    "plt.subplot(122)\n",
    "plt.imshow(x_test[0].squeeze() + noise.squeeze() * 100)\n",
    "plt.title('image with added noise')"
   ]
  },
  {
   "cell_type": "markdown",
   "metadata": {},
   "source": [
    "## Generating the chart for the challenge"
   ]
  },
  {
   "cell_type": "code",
   "execution_count": null,
   "metadata": {
    "collapsed": true
   },
   "outputs": [],
   "source": [
    "ind = np.where(np.argmax(y_test, axis=1) == 6)\n",
    "class_six = x_test[ind]\n",
    "\n"
   ]
  }
 ],
 "metadata": {
  "kernelspec": {
   "display_name": "Python 3",
   "language": "python",
   "name": "python3"
  },
  "language_info": {
   "codemirror_mode": {
    "name": "ipython",
    "version": 3
   },
   "file_extension": ".py",
   "mimetype": "text/x-python",
   "name": "python",
   "nbconvert_exporter": "python",
   "pygments_lexer": "ipython3",
   "version": "3.6.1"
  }
 },
 "nbformat": 4,
 "nbformat_minor": 2
}
